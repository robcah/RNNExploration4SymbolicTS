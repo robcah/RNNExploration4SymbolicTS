{
 "cells": [
  {
   "cell_type": "code",
   "execution_count": 1,
   "metadata": {},
   "outputs": [],
   "source": [
    "import sys\n",
    "from os import getcwd\n",
    "from os.path import join\n",
    "import time as T\n",
    "import pandas as pd\n",
    "from itertools import product\n",
    "# from importlib import reload\n",
    "\n",
    "cwd = getcwd()\n",
    "path = join(cwd, 'Code')\n",
    "sys.path.append(path)\n",
    "\n",
    "from RNNExploration4SymbolicTS import *\n",
    "from RNNNovelArchitectures import *\n",
    "from LZWStringGenerator import *\n",
    "\n",
    "# %load_ext autoreload # This is detrimental to the layer config\n",
    "# %autoreload 2 # solution (2nd) found in: https://stackoverflow.com/questions/43751455/supertype-obj-obj-must-be-an-instance-or-subtype-of-type"
   ]
  },
  {
   "cell_type": "code",
   "execution_count": 2,
   "metadata": {},
   "outputs": [
    {
     "data": {
      "text/html": [
       "<div>\n",
       "<style scoped>\n",
       "    .dataframe tbody tr th:only-of-type {\n",
       "        vertical-align: middle;\n",
       "    }\n",
       "\n",
       "    .dataframe tbody tr th {\n",
       "        vertical-align: top;\n",
       "    }\n",
       "\n",
       "    .dataframe thead th {\n",
       "        text-align: right;\n",
       "    }\n",
       "</style>\n",
       "<table border=\"1\" class=\"dataframe\">\n",
       "  <thead>\n",
       "    <tr style=\"text-align: right;\">\n",
       "      <th></th>\n",
       "      <th>nr_symbols</th>\n",
       "      <th>LZW_complexity</th>\n",
       "      <th>length</th>\n",
       "      <th>string</th>\n",
       "    </tr>\n",
       "  </thead>\n",
       "  <tbody>\n",
       "    <tr>\n",
       "      <th>0</th>\n",
       "      <td>2</td>\n",
       "      <td>2</td>\n",
       "      <td>2</td>\n",
       "      <td>AB</td>\n",
       "    </tr>\n",
       "    <tr>\n",
       "      <th>1</th>\n",
       "      <td>2</td>\n",
       "      <td>2</td>\n",
       "      <td>2</td>\n",
       "      <td>BA</td>\n",
       "    </tr>\n",
       "  </tbody>\n",
       "</table>\n",
       "</div>"
      ],
      "text/plain": [
       "   nr_symbols  LZW_complexity  length string\n",
       "0           2               2       2     AB\n",
       "1           2               2       2     BA"
      ]
     },
     "execution_count": 2,
     "metadata": {},
     "output_type": "execute_result"
    }
   ],
   "source": [
    "# df_strings = LZWStringLibrary(symbols=(10,52,3), complexity=(100,1000,3), save_csv=True,\n",
    "#                   symbols_range_distribution='geometrical', complexity_range_distribution='geometrical')\n",
    "\n",
    "# df_strings = pd.read_csv(r'./String_Libraries/StrLib_Symb(10-52_03)_LZWc(100-1000_3)_Iters(1)_2021-03-05.csv')\n",
    "\n",
    "df_strings = pd.read_csv(r'./String_Libraries/StrLib_Symb(02)_LZWc(1-100_1)_Its(50).csv', nrows=2)\n",
    "df_strings"
   ]
  },
  {
   "cell_type": "code",
   "execution_count": null,
   "metadata": {},
   "outputs": [],
   "source": []
  },
  {
   "cell_type": "code",
   "execution_count": 16,
   "metadata": {},
   "outputs": [
    {
     "name": "stdout",
     "output_type": "stream",
     "text": [
      "16\n",
      "0 (array([0, 2, 2, 2, 'AB'], dtype=object), 999, [1, 50, 0.01], 256, 0.05, 'sRNN', 0)\n",
      "1 (array([0, 2, 2, 2, 'AB'], dtype=object), 999, [1, 50, 0.01], 256, 0.05, 'sRNN', 1)\n",
      "2 (array([0, 2, 2, 2, 'AB'], dtype=object), 999, [1, 50, 0.01], 256, 0.05, 'LSTM', 0)\n",
      "3 (array([0, 2, 2, 2, 'AB'], dtype=object), 999, [1, 50, 0.01], 256, 0.05, 'LSTM', 1)\n",
      "4 (array([0, 2, 2, 2, 'AB'], dtype=object), 999, [1, 100, 0.01], 256, 0.05, 'sRNN', 0)\n",
      "5 (array([0, 2, 2, 2, 'AB'], dtype=object), 999, [1, 100, 0.01], 256, 0.05, 'sRNN', 1)\n",
      "6 (array([0, 2, 2, 2, 'AB'], dtype=object), 999, [1, 100, 0.01], 256, 0.05, 'LSTM', 0)\n",
      "7 (array([0, 2, 2, 2, 'AB'], dtype=object), 999, [1, 100, 0.01], 256, 0.05, 'LSTM', 1)\n",
      "8 (array([1, 2, 2, 2, 'BA'], dtype=object), 999, [1, 50, 0.01], 256, 0.05, 'sRNN', 0)\n",
      "9 (array([1, 2, 2, 2, 'BA'], dtype=object), 999, [1, 50, 0.01], 256, 0.05, 'sRNN', 1)\n",
      "10 (array([1, 2, 2, 2, 'BA'], dtype=object), 999, [1, 50, 0.01], 256, 0.05, 'LSTM', 0)\n",
      "11 (array([1, 2, 2, 2, 'BA'], dtype=object), 999, [1, 50, 0.01], 256, 0.05, 'LSTM', 1)\n",
      "12 (array([1, 2, 2, 2, 'BA'], dtype=object), 999, [1, 100, 0.01], 256, 0.05, 'sRNN', 0)\n",
      "13 (array([1, 2, 2, 2, 'BA'], dtype=object), 999, [1, 100, 0.01], 256, 0.05, 'sRNN', 1)\n",
      "14 (array([1, 2, 2, 2, 'BA'], dtype=object), 999, [1, 100, 0.01], 256, 0.05, 'LSTM', 0)\n",
      "15 (array([1, 2, 2, 2, 'BA'], dtype=object), 999, [1, 100, 0.01], 256, 0.05, 'LSTM', 1)\n"
     ]
    }
   ],
   "source": [
    "string_list = df_strings.iloc[:,:].reset_index().values #1\n",
    "layers = [1]#, 2, 3]\n",
    "learning_rate = [0.01]#[0.1, 0.01, 0.001]\n",
    "totalunits = [50, 100]#, 200]\n",
    "layers_Units_LR = [[l, np.ceil(u/l).astype(int), lr] for l, u, lr in \n",
    "            product(layers, totalunits, learning_rate)] \n",
    "batchsize = [2**8]\n",
    "valsplit = [0.05]\n",
    "architectures = ['sRNN', 'LSTM']#, 'GRU']\n",
    "# ['BRC', 'nBRC', 'MGU', 'MGU1', 'MGU2',\n",
    "#                  'MGU3', 'sRNN', 'LSTM', 'GRU']\n",
    "epochs_r = [999]\n",
    "iteration = range(2)\n",
    "iterator = list(product(string_list, epochs_r, layers_Units_LR, batchsize, \n",
    "                        valsplit, architectures, iteration))\n",
    "begin_index = 0\n",
    "datalen = 3000\n",
    "print(len(iterator))\n",
    "for i, iteration in enumerate(iterator[:]): #810\n",
    "     print(i, iteration)"
   ]
  },
  {
   "cell_type": "code",
   "execution_count": 23,
   "metadata": {},
   "outputs": [
    {
     "data": {
      "text/plain": [
       "(array([1, 10, 316, 560,\n",
       "        'CFJDAGHEIBIEEGFIECDGBBCIDFBGHGACEBDEGFJAHJGGGAFFBDEBHACJIIDADGJAHHCEHDDJIBDCEDBCJICBADIDJDHADIBICAJHEDIJFBHFIAJGBGIHJDDEJEFCHHHGEHAFABCFCHHBCJCABDGDEJBEGEBFHAIFCDGBICFFBBHBIJGIDGBJIGJDHJBEDBGFEIFJIACCCFFFFCFDGEHHGJEDDECHIHFDCJBIACDIFBDHHGDCACFIFDDHEHGABJCBGGBDBICBFDBDAIEFAFIGFJHBAEJABIHDJIGBGBBIJBIACGBBICEACJIFFBFFDIHHJJAEEIDJDHFCEHAEHHGJBAAJEEGCJABJFBEGIFIDCBIJGBHIIIGFDDHEEDFHECEIBJHIJIAAIHBHGIHGBGJAHIAFHCAHIHDEEIDIEFEAAEHEIJGIAAHIFEJCCGIHEHFCBHGIDIIGCHFABJABBADAGHHBIFFJIFIDIJIBAFADCJCJGCABEEHGICGGBGJDJGFJHGJBDDGCGJJJBFFIFDHBFGCHIJHCFHCEGEAICHEECAIABJFH'],\n",
       "       dtype=object), 999, [3, 17, 0.01], 256, 0.05, 'MGU3', 3)"
      ]
     },
     "execution_count": 23,
     "metadata": {},
     "output_type": "execute_result"
    }
   ],
   "source": [
    "# DO NOT DELETE!!!\n",
    "iterator[883]\n",
    "# list(sum(iterator[883], []))"
   ]
  },
  {
   "cell_type": "code",
   "execution_count": 7,
   "metadata": {},
   "outputs": [
    {
     "data": {
      "text/html": [
       "<div>\n",
       "<style scoped>\n",
       "    .dataframe tbody tr th:only-of-type {\n",
       "        vertical-align: middle;\n",
       "    }\n",
       "\n",
       "    .dataframe tbody tr th {\n",
       "        vertical-align: top;\n",
       "    }\n",
       "\n",
       "    .dataframe thead th {\n",
       "        text-align: right;\n",
       "    }\n",
       "</style>\n",
       "<table border=\"1\" class=\"dataframe\">\n",
       "  <thead>\n",
       "    <tr style=\"text-align: right;\">\n",
       "      <th></th>\n",
       "      <th>a</th>\n",
       "      <th>b</th>\n",
       "      <th>c</th>\n",
       "      <th>d</th>\n",
       "      <th>e</th>\n",
       "      <th>f</th>\n",
       "      <th>g</th>\n",
       "      <th>h</th>\n",
       "      <th>i</th>\n",
       "      <th>j</th>\n",
       "    </tr>\n",
       "  </thead>\n",
       "  <tbody>\n",
       "    <tr>\n",
       "      <th>0</th>\n",
       "      <td>1</td>\n",
       "      <td>2</td>\n",
       "      <td>3</td>\n",
       "      <td>4</td>\n",
       "      <td>5</td>\n",
       "      <td>6</td>\n",
       "      <td>7</td>\n",
       "      <td>8</td>\n",
       "      <td>9</td>\n",
       "      <td>10</td>\n",
       "    </tr>\n",
       "  </tbody>\n",
       "</table>\n",
       "</div>"
      ],
      "text/plain": [
       "   a  b  c  d  e  f  g  h  i   j\n",
       "0  1  2  3  4  5  6  7  8  9  10"
      ]
     },
     "execution_count": 7,
     "metadata": {},
     "output_type": "execute_result"
    }
   ],
   "source": [
    "columns = list('abcdefghij')\n",
    "df = pd.DataFrame(columns=columns)\n",
    "a=[1,2,3]\n",
    "b=4\n",
    "c=[5,6]\n",
    "d=[7,8,9,10,11]\n",
    "*d, _ = d\n",
    "\n",
    "df.loc[0,:] = *a,b,*c,*d\n",
    "df"
   ]
  },
  {
   "cell_type": "code",
   "execution_count": 13,
   "metadata": {},
   "outputs": [
    {
     "data": {
      "text/plain": [
       "[5, 4]"
      ]
     },
     "execution_count": 13,
     "metadata": {},
     "output_type": "execute_result"
    }
   ],
   "source": [
    "l = list(range(10))\n",
    "l[5:3:-1]"
   ]
  },
  {
   "cell_type": "code",
   "execution_count": 38,
   "metadata": {},
   "outputs": [
    {
     "name": "stdout",
     "output_type": "stream",
     "text": [
      "new c: a\n",
      "new c: b\n",
      "new c: c\n"
     ]
    }
   ],
   "source": [
    "list_ = ['a']*5+['b']*3+['c']\n",
    "new_c = True\n",
    "cm1 = 0\n",
    "for c in list_:\n",
    "    new_c = c!=cm1\n",
    "    if new_c:\n",
    "        print('new c:', c)\n",
    "        new_c=False\n",
    "    cm1 = c\n",
    "    "
   ]
  },
  {
   "cell_type": "code",
   "execution_count": 17,
   "metadata": {},
   "outputs": [
    {
     "name": "stdout",
     "output_type": "stream",
     "text": [
      "WARNING:tensorflow:6 out of the last 11 calls to <function Model.make_test_function.<locals>.test_function at 0x7f19bc5410d0> triggered tf.function retracing. Tracing is expensive and the excessive number of tracings could be due to (1) creating @tf.function repeatedly in a loop, (2) passing tensors with different shapes, (3) passing Python objects instead of tensors. For (1), please define your @tf.function outside of the loop. For (2), @tf.function has experimental_relax_shapes=True option that relaxes argument shapes that can avoid unnecessary retracing. For (3), please refer to https://www.tensorflow.org/guide/function#controlling_retracing and https://www.tensorflow.org/api_docs/python/tf/function for  more details.\n",
      "WARNING:tensorflow:6 out of the last 11 calls to <function Model.make_test_function.<locals>.test_function at 0x7f19c4459598> triggered tf.function retracing. Tracing is expensive and the excessive number of tracings could be due to (1) creating @tf.function repeatedly in a loop, (2) passing tensors with different shapes, (3) passing Python objects instead of tensors. For (1), please define your @tf.function outside of the loop. For (2), @tf.function has experimental_relax_shapes=True option that relaxes argument shapes that can avoid unnecessary retracing. For (3), please refer to https://www.tensorflow.org/guide/function#controlling_retracing and https://www.tensorflow.org/api_docs/python/tf/function for  more details.\n",
      "WARNING:tensorflow:7 out of the last 12 calls to <function Model.make_test_function.<locals>.test_function at 0x7f1a1ca506a8> triggered tf.function retracing. Tracing is expensive and the excessive number of tracings could be due to (1) creating @tf.function repeatedly in a loop, (2) passing tensors with different shapes, (3) passing Python objects instead of tensors. For (1), please define your @tf.function outside of the loop. For (2), @tf.function has experimental_relax_shapes=True option that relaxes argument shapes that can avoid unnecessary retracing. For (3), please refer to https://www.tensorflow.org/guide/function#controlling_retracing and https://www.tensorflow.org/api_docs/python/tf/function for  more details.\n",
      "WARNING:tensorflow:7 out of the last 12 calls to <function Model.make_test_function.<locals>.test_function at 0x7f1a1c862b70> triggered tf.function retracing. Tracing is expensive and the excessive number of tracings could be due to (1) creating @tf.function repeatedly in a loop, (2) passing tensors with different shapes, (3) passing Python objects instead of tensors. For (1), please define your @tf.function outside of the loop. For (2), @tf.function has experimental_relax_shapes=True option that relaxes argument shapes that can avoid unnecessary retracing. For (3), please refer to https://www.tensorflow.org/guide/function#controlling_retracing and https://www.tensorflow.org/api_docs/python/tf/function for  more details.\n",
      "WARNING:tensorflow:7 out of the last 12 calls to <function Model.make_test_function.<locals>.test_function at 0x7f19c4579950> triggered tf.function retracing. Tracing is expensive and the excessive number of tracings could be due to (1) creating @tf.function repeatedly in a loop, (2) passing tensors with different shapes, (3) passing Python objects instead of tensors. For (1), please define your @tf.function outside of the loop. For (2), @tf.function has experimental_relax_shapes=True option that relaxes argument shapes that can avoid unnecessary retracing. For (3), please refer to https://www.tensorflow.org/guide/function#controlling_retracing and https://www.tensorflow.org/api_docs/python/tf/function for  more details.\n",
      "WARNING:tensorflow:7 out of the last 11 calls to <function Model.make_test_function.<locals>.test_function at 0x7f1a2bd380d0> triggered tf.function retracing. Tracing is expensive and the excessive number of tracings could be due to (1) creating @tf.function repeatedly in a loop, (2) passing tensors with different shapes, (3) passing Python objects instead of tensors. For (1), please define your @tf.function outside of the loop. For (2), @tf.function has experimental_relax_shapes=True option that relaxes argument shapes that can avoid unnecessary retracing. For (3), please refer to https://www.tensorflow.org/guide/function#controlling_retracing and https://www.tensorflow.org/api_docs/python/tf/function for  more details.\n",
      "WARNING:tensorflow:8 out of the last 12 calls to <function Model.make_test_function.<locals>.test_function at 0x7f19c4635048> triggered tf.function retracing. Tracing is expensive and the excessive number of tracings could be due to (1) creating @tf.function repeatedly in a loop, (2) passing tensors with different shapes, (3) passing Python objects instead of tensors. For (1), please define your @tf.function outside of the loop. For (2), @tf.function has experimental_relax_shapes=True option that relaxes argument shapes that can avoid unnecessary retracing. For (3), please refer to https://www.tensorflow.org/guide/function#controlling_retracing and https://www.tensorflow.org/api_docs/python/tf/function for  more details.\n",
      "WARNING:tensorflow:8 out of the last 12 calls to <function Model.make_test_function.<locals>.test_function at 0x7f1a1c82c378> triggered tf.function retracing. Tracing is expensive and the excessive number of tracings could be due to (1) creating @tf.function repeatedly in a loop, (2) passing tensors with different shapes, (3) passing Python objects instead of tensors. For (1), please define your @tf.function outside of the loop. For (2), @tf.function has experimental_relax_shapes=True option that relaxes argument shapes that can avoid unnecessary retracing. For (3), please refer to https://www.tensorflow.org/guide/function#controlling_retracing and https://www.tensorflow.org/api_docs/python/tf/function for  more details.\n",
      "WARNING:tensorflow:7 out of the last 11 calls to <function Model.make_test_function.<locals>.test_function at 0x7f19c4381378> triggered tf.function retracing. Tracing is expensive and the excessive number of tracings could be due to (1) creating @tf.function repeatedly in a loop, (2) passing tensors with different shapes, (3) passing Python objects instead of tensors. For (1), please define your @tf.function outside of the loop. For (2), @tf.function has experimental_relax_shapes=True option that relaxes argument shapes that can avoid unnecessary retracing. For (3), please refer to https://www.tensorflow.org/guide/function#controlling_retracing and https://www.tensorflow.org/api_docs/python/tf/function for  more details.\n",
      "WARNING:tensorflow:8 out of the last 12 calls to <function Model.make_test_function.<locals>.test_function at 0x7f19c4459e18> triggered tf.function retracing. Tracing is expensive and the excessive number of tracings could be due to (1) creating @tf.function repeatedly in a loop, (2) passing tensors with different shapes, (3) passing Python objects instead of tensors. For (1), please define your @tf.function outside of the loop. For (2), @tf.function has experimental_relax_shapes=True option that relaxes argument shapes that can avoid unnecessary retracing. For (3), please refer to https://www.tensorflow.org/guide/function#controlling_retracing and https://www.tensorflow.org/api_docs/python/tf/function for  more details.\n",
      "WARNING:tensorflow:8 out of the last 11 calls to <function Model.make_test_function.<locals>.test_function at 0x7f1a181c66a8> triggered tf.function retracing. Tracing is expensive and the excessive number of tracings could be due to (1) creating @tf.function repeatedly in a loop, (2) passing tensors with different shapes, (3) passing Python objects instead of tensors. For (1), please define your @tf.function outside of the loop. For (2), @tf.function has experimental_relax_shapes=True option that relaxes argument shapes that can avoid unnecessary retracing. For (3), please refer to https://www.tensorflow.org/guide/function#controlling_retracing and https://www.tensorflow.org/api_docs/python/tf/function for  more details.\n",
      "WARNING:tensorflow:8 out of the last 11 calls to <function Model.make_test_function.<locals>.test_function at 0x7f1a182b8510> triggered tf.function retracing. Tracing is expensive and the excessive number of tracings could be due to (1) creating @tf.function repeatedly in a loop, (2) passing tensors with different shapes, (3) passing Python objects instead of tensors. For (1), please define your @tf.function outside of the loop. For (2), @tf.function has experimental_relax_shapes=True option that relaxes argument shapes that can avoid unnecessary retracing. For (3), please refer to https://www.tensorflow.org/guide/function#controlling_retracing and https://www.tensorflow.org/api_docs/python/tf/function for  more details.\n",
      "WARNING:tensorflow:7 out of the last 11 calls to <function Model.make_test_function.<locals>.test_function at 0x7f19c4082158> triggered tf.function retracing. Tracing is expensive and the excessive number of tracings could be due to (1) creating @tf.function repeatedly in a loop, (2) passing tensors with different shapes, (3) passing Python objects instead of tensors. For (1), please define your @tf.function outside of the loop. For (2), @tf.function has experimental_relax_shapes=True option that relaxes argument shapes that can avoid unnecessary retracing. For (3), please refer to https://www.tensorflow.org/guide/function#controlling_retracing and https://www.tensorflow.org/api_docs/python/tf/function for  more details.\n",
      "WARNING:tensorflow:8 out of the last 12 calls to <function Model.make_test_function.<locals>.test_function at 0x7f1a1ca50a60> triggered tf.function retracing. Tracing is expensive and the excessive number of tracings could be due to (1) creating @tf.function repeatedly in a loop, (2) passing tensors with different shapes, (3) passing Python objects instead of tensors. For (1), please define your @tf.function outside of the loop. For (2), @tf.function has experimental_relax_shapes=True option that relaxes argument shapes that can avoid unnecessary retracing. For (3), please refer to https://www.tensorflow.org/guide/function#controlling_retracing and https://www.tensorflow.org/api_docs/python/tf/function for  more details.\n",
      "WARNING:tensorflow:8 out of the last 12 calls to <function Model.make_test_function.<locals>.test_function at 0x7f1a0c7d1d08> triggered tf.function retracing. Tracing is expensive and the excessive number of tracings could be due to (1) creating @tf.function repeatedly in a loop, (2) passing tensors with different shapes, (3) passing Python objects instead of tensors. For (1), please define your @tf.function outside of the loop. For (2), @tf.function has experimental_relax_shapes=True option that relaxes argument shapes that can avoid unnecessary retracing. For (3), please refer to https://www.tensorflow.org/guide/function#controlling_retracing and https://www.tensorflow.org/api_docs/python/tf/function for  more details.\n",
      "WARNING:tensorflow:7 out of the last 11 calls to <function Model.make_test_function.<locals>.test_function at 0x7f1a1c862a60> triggered tf.function retracing. Tracing is expensive and the excessive number of tracings could be due to (1) creating @tf.function repeatedly in a loop, (2) passing tensors with different shapes, (3) passing Python objects instead of tensors. For (1), please define your @tf.function outside of the loop. For (2), @tf.function has experimental_relax_shapes=True option that relaxes argument shapes that can avoid unnecessary retracing. For (3), please refer to https://www.tensorflow.org/guide/function#controlling_retracing and https://www.tensorflow.org/api_docs/python/tf/function for  more details.\n"
     ]
    }
   ],
   "source": [
    "%%capture cap --no-stderr --no-display\n",
    "#Changing the early stop to loss < 0.1 instead of acc>0.99\n",
    "\n",
    "print(df_strings)\n",
    "iterator_start = 0\n",
    "columns = ['string_nr_symbols', 'string_LZW_complexity', 'string_length', \n",
    "           'original_string', 'n_layers', 'units_per_layer', 'learning_rate',\n",
    "           'batch_size', 'validation_split', 'architecture', 'iteration_n', \n",
    "           'total_epochs', 'total_time_s', 'test_string', 'forecast_string', \n",
    "           'JW', 'DL', 'data_length_aimed', 'data_length_real' ]\n",
    "string_idxm1 = None\n",
    "iterator = iterator[iterator_start:]\n",
    "\n",
    "for test_idx, test_settings in enumerate(iterator, iterator_start):\n",
    "    str_info, max_epochs, rnn_settings, *other_params = test_settings\n",
    "    string_idx, *str_info = str_info\n",
    "    *other_params, iter_n = other_params\n",
    "    \n",
    "    print('\\n{}\\nString:{}/{}, test:{}/{}, iteration:{}'.format('-'*100, \n",
    "                                            string_idx, len(df_strings), \n",
    "                                            test_idx, len(iterator), iter_n))\n",
    "    print('Maximum epochs:{}, Batch size:{}, Validation split:{}'.format(\n",
    "                                            max_epochs, *other_params[:2]))\n",
    "    print('Number of layers:{}, Units per layer:{}, Learning rate:{}'.format(\n",
    "                                            *rnn_settings))\n",
    "        \n",
    "    new_file = string_idx != string_idxm1\n",
    "    results = pd.DataFrame(columns=columns)\n",
    "    \n",
    "    if new_file:\n",
    "        args = dict(mode = 'w', header = True)\n",
    "#         new_file = False\n",
    "    else:\n",
    "        args = dict(mode = 'a', header = False)\n",
    "    \n",
    "    output = RNN_Iteration(test_idx, string_idx, *str_info, max_epochs, \n",
    "                           *rnn_settings, *other_params, \n",
    "                           datalen, del_nonoptimals=True)\n",
    "      \n",
    "    results.loc[test_idx, :] = *str_info, *rnn_settings, *other_params, iter_n, *output\n",
    "    \n",
    "    results.to_csv('Summary{:02}_Cpx{:02}-Sym{:02}-Len{:04}.csv'.format(string_idx, int(str_info[1]), \n",
    "                                            int(str_info[0]), int(str_info[2])), **args)\n",
    "    \n",
    "    string_idxm1 = string_idx\n",
    "    "
   ]
  },
  {
   "cell_type": "code",
   "execution_count": 18,
   "metadata": {},
   "outputs": [
    {
     "name": "stdout",
     "output_type": "stream",
     "text": [
      "Finished!\n"
     ]
    }
   ],
   "source": [
    "# To capture the output of the cell\n",
    "newfile = T.strftime('Report_%Y-%m-%d_%H-%M-%S.txt')\n",
    "for line in cap.stdout.splitlines():\n",
    "    if not 'ETA: ' in line:\n",
    "        with open(newfile, 'a') as writer:\n",
    "            writer.write(line+'\\n')\n",
    "print('Finished!')"
   ]
  },
  {
   "cell_type": "code",
   "execution_count": null,
   "metadata": {},
   "outputs": [],
   "source": [
    "%%capture cap --no-stderr --no-display\n",
    "#Changing the early stop to loss < 0.1 instead of acc>0.99\n",
    "\n",
    "print(df_strings)\n",
    "iterator_start = 0\n",
    "\n",
    "for i, l in enumerate(df_strings.index, 1):\n",
    "    line = df_strings.loc[l,:]\n",
    "    \n",
    "    new_file = True\n",
    "    results = pd.DataFrame(columns = ['nr_symbols', 'LZW_complexity', 'length', \n",
    "                                      'n_layers', 'units_per_layer', 'learning_rate',\n",
    "                                      'epochs', 'total_time_s', 'batch_size', \n",
    "                                      'validation_split', 'JW', 'DL', 'original_string', \n",
    "                                      'test_string', 'forecast_String', 'data_length', \n",
    "                                      'architecture'])\n",
    "\n",
    "    for j, (ep, (lay, cells, lr), iter_, batch, split, architecture) in enumerate(iterator[iterator_start:], begin_index): # PAY ATTENTION HERE!!!\n",
    "        if lay==None and cells==None: continue\n",
    "        print('\\n{}\\nString:{}/{}, iteration:{}/{}, repetition:{}'.format('-'*100, i, len(df_strings), j, len(iterator), iter_))\n",
    "        print('Epoch:{}, Learning rate:{}, Cells per layer:{}, Batch size:{}, Validation split:{}'.format(ep, lr, cells, batch, split))\n",
    "        output = RNN_Iteration(i, j, line.LZW_complexity, line.nr_symbols, \n",
    "                                line.string, lay, cells, ep, batch, split, lr, datalen, architecture, delnonoptimals=True)\n",
    "        jw, dl, total_eps, seq_test, seq_out, total_time, architecture = output\n",
    "        results.loc[j, ['nr_symbols', 'LZW_complexity', 'length']] = line.nr_symbols, line.LZW_complexity, line.length\n",
    "        results.loc[j, ['n_layers', 'units_per_layer', 'epochs', 'learning_rate']] = [lay, cells, total_eps, lr]\n",
    "        results.loc[j, ['JW', 'DL', 'batch_size', 'validation_split']] = [float(jw), float(dl), batch, split]\n",
    "        results.loc[j, ['original_string', 'test_string', 'forecast_String']] = [line.string, seq_test, seq_out]\n",
    "        results.loc[j, ['data_length', 'total_time_s', 'architecture']] = [datalen, total_time, architecture]\n",
    "\n",
    "        if new_file:\n",
    "            args = dict(mode = 'w', header = True)\n",
    "            new = False\n",
    "        else:\n",
    "            args = dict(mode = 'a', header = False)\n",
    "\n",
    "        results.to_csv('Summary{:02}_Cpx{:02}-Sym{:02}.csv'.format(i, int(line.LZW_complexity), \n",
    "                                            int(line.nr_symbols)), **args)"
   ]
  },
  {
   "cell_type": "code",
   "execution_count": null,
   "metadata": {},
   "outputs": [],
   "source": [
    "# To capture the output of the cell\n",
    "newfile = T.strftime('Report_%Y-%m-%d_%H-%M-%S.txt')\n",
    "for line in cap.stdout.splitlines():\n",
    "    if not 'ETA: ' in line:\n",
    "        with open(newfile, 'a') as writer:\n",
    "            writer.write(line+'\\n')\n",
    "print('Finished!')"
   ]
  }
 ],
 "metadata": {
  "kernelspec": {
   "display_name": "Python 3",
   "language": "python",
   "name": "python3"
  },
  "language_info": {
   "codemirror_mode": {
    "name": "ipython",
    "version": 3
   },
   "file_extension": ".py",
   "mimetype": "text/x-python",
   "name": "python",
   "nbconvert_exporter": "python",
   "pygments_lexer": "ipython3",
   "version": "3.7.3"
  }
 },
 "nbformat": 4,
 "nbformat_minor": 4
}
